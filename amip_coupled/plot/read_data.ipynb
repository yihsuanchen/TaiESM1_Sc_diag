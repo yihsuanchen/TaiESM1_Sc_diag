{
 "cells": [
  {
   "cell_type": "markdown",
   "id": "323157ca",
   "metadata": {},
   "source": [
    "# Program - Read and Return different datasets\n",
    "\n",
    "**Purpose**\n",
    "\n",
    "\n",
    "**Content**\n",
    "- read different dataset (model, reanalysis, etc.) and return Xarray Dataset\n",
    "\n",
    "**Author:** Yi-Hsuan Chen (yihsuan@umich.edu)\n",
    "\n",
    "**Date:** \n",
    "\n",
    "**Reference program:**\n",
    "\n",
    "**Convert ipynb to py:**\n",
    "\n",
    "jupyter nbconvert read_data.ipynb --to python\n",
    "\n",
    "**import:**\n",
    "\n",
    "import read_data as read_data\n"
   ]
  },
  {
   "cell_type": "code",
   "execution_count": 1,
   "id": "2ebadecb",
   "metadata": {},
   "outputs": [
    {
     "name": "stderr",
     "output_type": "stream",
     "text": [
      "ERROR 1: PROJ: proj_create_from_database: Open of /lfs/opt/anaconda3/share/proj failed\n"
     ]
    },
    {
     "data": {
      "text/plain": [
       "<xarray.core.options.set_options at 0x7f526841b040>"
      ]
     },
     "execution_count": 1,
     "metadata": {},
     "output_type": "execute_result"
    }
   ],
   "source": [
    "import cartopy.crs as ccrs\n",
    "import cartopy.feature as cfeature\n",
    "import matplotlib.pyplot as plt\n",
    "import numpy as np\n",
    "import xarray as xr\n",
    "import io, os, sys, types\n",
    "\n",
    "import yhc_module as yhc\n",
    "\n",
    "xr.set_options(keep_attrs=True)  # keep attributes after xarray operation"
   ]
  },
  {
   "cell_type": "markdown",
   "id": "935f968c-b366-494b-a8e2-c345906bf4fa",
   "metadata": {},
   "source": [
    "## Template"
   ]
  },
  {
   "cell_type": "code",
   "execution_count": 2,
   "id": "a34d5fee-297c-4298-8a19-38e2aa471774",
   "metadata": {},
   "outputs": [],
   "source": [
    "def read__data(choice): \n",
    "    func_name = \"read__data\"\n",
    "\n",
    "    #--- set datapath and files\n",
    "    if (choice == \"\"):\n",
    "        datapath = \"\"\n",
    "        fnames = [\n",
    "            \"\",\n",
    "            \"\",\n",
    "                 ]\n",
    "\n",
    "\n",
    "    else:\n",
    "        error_msg = f\"ERROR: function [{func_name}] does not support [{choice}].\"\n",
    "        raise ValueError(error_msg)\n",
    "\n",
    "    #--- read files using xarray\n",
    "    fnames = [datapath+\"/\"+file1 for file1 in fnames]\n",
    "    ds_out = xr.open_mfdataset(fnames)\n",
    "\n",
    "    #--- return dataset\n",
    "    return ds_out\n",
    "        \n",
    "#-----------\n",
    "# do_test\n",
    "#-----------\n",
    "\n",
    "#do_test=True\n",
    "do_test=False\n",
    "\n",
    "if (do_test):\n",
    "    choice = \"\"\n",
    "    ds_out = read__data(choice)\n",
    "    print(ds_out)\n"
   ]
  },
  {
   "cell_type": "markdown",
   "id": "d85713f7-8d38-4449-b3e3-e0faa07ae085",
   "metadata": {},
   "source": [
    "## Read TaiESM data"
   ]
  },
  {
   "cell_type": "code",
   "execution_count": 10,
   "id": "54d4ff84-eea1-4005-94cd-c312671b3f35",
   "metadata": {},
   "outputs": [],
   "source": [
    "def read_TaiESM_data(choice): \n",
    "    func_name = \"read_TaiESM_data\"\n",
    "\n",
    "    if (choice == \"rsut_Amon_TaiESM1_amip-hist_r1i1p1f1_1979_2014\"):\n",
    "        #datapath = \"/Users/yi-hsuanchen/Downloads/yihsuan/research/data/TaiESM1/data/CMIP6/TaiESM1/amip-hist/atmos/mon/r1i1p1f1/\"\n",
    "        datapath = \"/lfs/archive/CMIP6/TaiESM1/amip-hist/atmos/mon/r1i1p1f1/\"\n",
    "        fnames = [\n",
    "    \"rsut_Amon_TaiESM1_amip-hist_r1i1p1f1_gn_197901-201012.nc\",\n",
    "    \"rsut_Amon_TaiESM1_amip-hist_r1i1p1f1_gn_201101-201412.nc\",\n",
    "                 ]\n",
    "        \n",
    "    elif (choice == \"rlut_Amon_TaiESM1_amip-hist_r1i1p1f1_1979_2014\"):\n",
    "        #datapath = \"/Users/yi-hsuanchen/Downloads/yihsuan/research/data/TaiESM1/data/CMIP6/TaiESM1/amip-hist/atmos/mon/r1i1p1f1/\"\n",
    "        datapath = \"/lfs/archive/CMIP6/TaiESM1/amip-hist/atmos/mon/r1i1p1f1/\"\n",
    "        fnames = [\n",
    "    \"rlut_Amon_TaiESM1_amip-hist_r1i1p1f1_gn_197901-201012.nc\",\n",
    "    \"rlut_Amon_TaiESM1_amip-hist_r1i1p1f1_gn_201101-201412.nc\",\n",
    "                 ]\n",
    "    elif (choice == \"rsut_Amon_TaiESM1_historical_r1i1p1f1_gn_185001-201412\"):\n",
    "\n",
    "       datapath = \"/lfs/archive/CMIP6/TaiESM1/historical/atmos/mon/r1i1p1f1/\"\n",
    "       fnames = [\"rsut_Amon_TaiESM1_historical_r1i1p1f1_gn_185001-201412.nc\"]\n",
    "    \n",
    "    else:\n",
    "        error_msg = f\"ERROR: function [{func_name}] does not support [{choice}].\"\n",
    "        raise ValueError(error_msg)\n",
    "        \n",
    "    fnames = [datapath+file1 for file1 in fnames]\n",
    "    ds_out = xr.open_mfdataset(fnames)\n",
    "\n",
    "    return ds_out\n",
    "        \n",
    "#-----------\n",
    "# do_test\n",
    "#-----------\n",
    "\n",
    "#do_test=True\n",
    "do_test=False\n",
    "\n",
    "if (do_test):\n",
    "    #choice = \"rlut_Amon_TaiESM1_amip-hist_r1i1p1f1_1979_2014\"\n",
    "    choice = \"rsut_Amon_TaiESM1_historical_r1i1p1f1_gn_185001-201412\"\n",
    "    ds_TaiESM1 = read_TaiESM_data(choice)\n",
    "    print(ds_TaiESM1)\n"
   ]
  },
  {
   "cell_type": "markdown",
   "id": "7b06bdc5-6cd1-4b6c-b85c-86f5832ee2e6",
   "metadata": {},
   "source": [
    "## Read CERES data"
   ]
  },
  {
   "cell_type": "code",
   "execution_count": 6,
   "id": "239508b6-2f25-481e-8262-4805adacec97",
   "metadata": {},
   "outputs": [
    {
     "name": "stdout",
     "output_type": "stream",
     "text": [
      "<xarray.Dataset>\n",
      "Dimensions:                     (lon: 360, lat: 180, time: 168)\n",
      "Coordinates:\n",
      "  * lon                         (lon) float32 0.5 1.5 2.5 ... 357.5 358.5 359.5\n",
      "  * lat                         (lat) float32 -89.5 -88.5 -87.5 ... 88.5 89.5\n",
      "  * time                        (time) datetime64[ns] 2001-01-15 ... 2014-12-15\n",
      "Data variables:\n",
      "    toa_sw_all_mon              (time, lat, lon) float32 dask.array<chunksize=(168, 180, 360), meta=np.ndarray>\n",
      "    toa_lw_all_mon              (time, lat, lon) float32 dask.array<chunksize=(168, 180, 360), meta=np.ndarray>\n",
      "    toa_net_all_mon             (time, lat, lon) float32 dask.array<chunksize=(168, 180, 360), meta=np.ndarray>\n",
      "    toa_sw_clr_c_mon            (time, lat, lon) float32 dask.array<chunksize=(168, 180, 360), meta=np.ndarray>\n",
      "    toa_lw_clr_c_mon            (time, lat, lon) float32 dask.array<chunksize=(168, 180, 360), meta=np.ndarray>\n",
      "    toa_net_clr_c_mon           (time, lat, lon) float32 dask.array<chunksize=(168, 180, 360), meta=np.ndarray>\n",
      "    solar_mon                   (time, lat, lon) float32 dask.array<chunksize=(168, 180, 360), meta=np.ndarray>\n",
      "    cldarea_total_daynight_mon  (time, lat, lon) float32 dask.array<chunksize=(168, 180, 360), meta=np.ndarray>\n",
      "Attributes:\n",
      "    title:        CERES EBAF (Energy Balanced and Filled) TOA Fluxes. Monthly...\n",
      "    institution:  NASA/LaRC (Langley Research Center) Hampton, Va\n",
      "    Conventions:  CF-1.4\n",
      "    comment:      Climatology from 07/2005 to 06/2015\n",
      "    version:      Edition 4.2; Release Date December 9, 2022\n",
      "    DOI:          10.5067/TERRA-AQUA-NOAA20/CERES/EBAF-TOA_L3B004.2\n"
     ]
    }
   ],
   "source": [
    "def read_CERES_data(choice): \n",
    "    func_name = \"read_CERES_data\"\n",
    "\n",
    "    if (choice == \"CERES_EBAF-TOA_Ed4.2_Subset_200101-201412\"):\n",
    "        #datapath = \"/Users/yi-hsuanchen/Downloads/yihsuan/research/data/CERES\"\n",
    "        datapath = \"/lfs/home/yihsuanc/data/data.CERES/\"\n",
    "        fnames = [\n",
    "            \"CERES_EBAF-TOA_Ed4.2_Subset_200101-201412.nc\"\n",
    "                 ]\n",
    "\n",
    "        fnames = [datapath+\"/\"+file1 for file1 in fnames]\n",
    "        #fnames = [datapath+file1 for file1 in fnames]\n",
    "        ds_out = xr.open_mfdataset(fnames)\n",
    "\n",
    "        return ds_out\n",
    "\n",
    "    else:\n",
    "        error_msg = f\"ERROR: function [{func_name}] does not support [{choice}].\"\n",
    "        raise ValueError(error_msg)\n",
    "        \n",
    "#-----------\n",
    "# do_test\n",
    "#-----------\n",
    "\n",
    "do_test=True\n",
    "#do_test=False\n",
    "\n",
    "if (do_test):\n",
    "    choice = \"CERES_EBAF-TOA_Ed4.2_Subset_200101-201412\"\n",
    "    ds_out = read_CERES_data(choice)\n",
    "    print(ds_out)\n"
   ]
  },
  {
   "cell_type": "code",
   "execution_count": null,
   "id": "03f7d011-fe8f-4a3b-9601-24ca935fad72",
   "metadata": {},
   "outputs": [],
   "source": []
  }
 ],
 "metadata": {
  "kernelspec": {
   "display_name": "Python 3 (ipykernel)",
   "language": "python",
   "name": "python3"
  },
  "language_info": {
   "codemirror_mode": {
    "name": "ipython",
    "version": 3
   },
   "file_extension": ".py",
   "mimetype": "text/x-python",
   "name": "python",
   "nbconvert_exporter": "python",
   "pygments_lexer": "ipython3",
   "version": "3.9.16"
  }
 },
 "nbformat": 4,
 "nbformat_minor": 5
}
