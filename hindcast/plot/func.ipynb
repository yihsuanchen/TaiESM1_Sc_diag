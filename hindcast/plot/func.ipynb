{
 "cells": [
  {
   "cell_type": "markdown",
   "id": "323157ca",
   "metadata": {},
   "source": [
    "# Program - \n",
    "\n",
    "**Purpose**\n",
    "\n",
    "\n",
    "**Content**\n",
    "- read data\n",
    "- plot XY profiles\n",
    "\n",
    "**Author:** Yi-Hsuan Chen (yihsuan@umich.edu)\n",
    "\n",
    "**Date:** \n",
    "\n",
    "**Reference program:**\n",
    "\n"
   ]
  },
  {
   "cell_type": "code",
   "execution_count": 2,
   "id": "2ebadecb",
   "metadata": {},
   "outputs": [
    {
     "data": {
      "text/plain": [
       "<xarray.core.options.set_options at 0x7f0c623e6a90>"
      ]
     },
     "execution_count": 2,
     "metadata": {},
     "output_type": "execute_result"
    }
   ],
   "source": [
    "import cartopy.crs as ccrs\n",
    "import cartopy.feature as cfeature\n",
    "import matplotlib.pyplot as plt\n",
    "import numpy as np\n",
    "import xarray as xr\n",
    "import io, os, sys, types\n",
    "\n",
    "#import yhc_module as yhc\n",
    "\n",
    "xr.set_options(keep_attrs=True)  # keep attributes after xarray operation"
   ]
  },
  {
   "cell_type": "markdown",
   "id": "01716b6a",
   "metadata": {},
   "source": [
    "## Read data"
   ]
  },
  {
   "cell_type": "markdown",
   "id": "80bc1601-837f-41b0-aac5-914e3408d105",
   "metadata": {},
   "source": [
    "### function - get_hindcast_filenames"
   ]
  },
  {
   "cell_type": "code",
   "execution_count": 48,
   "id": "fade30a1-42a4-4b93-966c-1b81b9368b2f",
   "metadata": {},
   "outputs": [],
   "source": [
    "from datetime import datetime, timedelta\n",
    "\n",
    "############################\n",
    "############################\n",
    "############################\n",
    "def get_previous_date(input_date, days_prior):\n",
    "    \"\"\"\n",
    "    Get the date prior to the input_date\n",
    "\n",
    "    Input argument:\n",
    "        input_date = '2001-01-04'\n",
    "        days_prior = 3\n",
    "\n",
    "    Output argument:\n",
    "        a dictionary variable [date, YYYY, MM, DD, YYYYMMDD]\n",
    "\n",
    "    Example:\n",
    "        input_date = '2001-01-04'\n",
    "        days_prior = 3\n",
    "        date_prior3 = get_previous_date(input_date, days_prior)\n",
    "        \n",
    "        date_prior3['date'] is 2001-01-01\n",
    "        \n",
    "    Author: Yi-Hsuan Chen\n",
    "    January 2024\n",
    "    \"\"\"\n",
    "    # Convert the input date string to a datetime object\n",
    "    input_date = datetime.strptime(input_date, '%Y-%m-%d')\n",
    "\n",
    "    # Calculate the timedelta for the specified number of days\n",
    "    delta = timedelta(days=days_prior)\n",
    "\n",
    "    # Subtract the timedelta from the input date to get the previous date\n",
    "    previous_date = input_date - delta\n",
    "\n",
    "    # Format the result as a string in the same format as the input\n",
    "    date = previous_date.strftime('%Y-%m-%d')\n",
    "    year, month, day = date.split('-')\n",
    "\n",
    "    result = {\n",
    "        'date':date,\n",
    "        'YYYY':year,\n",
    "        'MM':month,\n",
    "        'DD':day,\n",
    "        #'date_merge':str(year)+str(month).zfill(2)+str(day).zfill(2)\n",
    "        'YYYYMMDD':year+month+day\n",
    "             }\n",
    "    return result\n",
    "\n",
    "############################\n",
    "############################\n",
    "############################\n",
    "def get_hindcast_filenames(start_date_str, end_date_str, lead_day,\n",
    "                           filename_head=\"xx01-taiesm1.F_2000_TAI.f09_f09.1226_1050.icdate_\"):\n",
    "\n",
    "    \"\"\"\n",
    "    Get hindcast simulation file names\n",
    "\n",
    "    Input:\n",
    "        start_date_str = '2001-07-01'\n",
    "        end_date_str = '2001-07-31'\n",
    "        lead_day=2\n",
    "\n",
    "    Output:\n",
    "        filenames, e.g. {filename_head}.20010629.cam.h0.2001-07-01-00000.nc\n",
    "    \"\"\"\n",
    "    \n",
    "    start_date = datetime.strptime(start_date_str, '%Y-%m-%d')\n",
    "    end_date = datetime.strptime(end_date_str, '%Y-%m-%d')\n",
    "\n",
    "    # Convert the date strings to datetime objects\n",
    "    start_date = datetime.strptime(start_date_str, '%Y-%m-%d')\n",
    "    end_date = datetime.strptime(end_date_str, '%Y-%m-%d')\n",
    "\n",
    "    # Define the timedelta for the loop iteration\n",
    "    delta = timedelta(days=1)\n",
    "\n",
    "    # Initialize the current date with the start date\n",
    "    current_date = start_date\n",
    "\n",
    "    # Loop over the date range\n",
    "\n",
    "    filenames = []\n",
    "    \n",
    "    while current_date <= end_date:\n",
    "        current_date_str = current_date.strftime('%Y-%m-%d')\n",
    "        date00 = get_previous_date(current_date_str, lead_day)\n",
    "        \n",
    "        #print(date00['date_merge'])\n",
    "\n",
    "        yyyy, mm ,dd = current_date_str.split('-')\n",
    "        filename1 = filename_head+date00['YYYYMMDD']+\".cam.h0.\"+current_date_str+\"-00000.nc\"\n",
    "\n",
    "        #print(filename1)\n",
    "        filenames.append(filename1)\n",
    "        \n",
    "        # Move to the next date\n",
    "        current_date += delta\n",
    "\n",
    "    return filenames\n",
    "    #print(filenames)\n",
    "\n",
    "#------------\n",
    "# do test\n",
    "#-------------\n",
    "start_date_str = '2001-07-01'\n",
    "end_date_str = '2001-07-31'\n",
    "lead_day=2\n",
    "filenames = get_hindcast_filenames(start_date_str, end_date_str, lead_day)\n",
    "\n",
    "#filenames"
   ]
  },
  {
   "cell_type": "code",
   "execution_count": 49,
   "id": "b3f391b4-dd67-4d38-9070-b2c0ab5971b1",
   "metadata": {},
   "outputs": [
    {
     "data": {
      "text/plain": [
       "['xx01-taiesm1.F_2000_TAI.f09_f09.1226_1050.icdate_20010629.cam.h0.2001-07-01-00000.nc',\n",
       " 'xx01-taiesm1.F_2000_TAI.f09_f09.1226_1050.icdate_20010630.cam.h0.2001-07-02-00000.nc',\n",
       " 'xx01-taiesm1.F_2000_TAI.f09_f09.1226_1050.icdate_20010701.cam.h0.2001-07-03-00000.nc',\n",
       " 'xx01-taiesm1.F_2000_TAI.f09_f09.1226_1050.icdate_20010702.cam.h0.2001-07-04-00000.nc',\n",
       " 'xx01-taiesm1.F_2000_TAI.f09_f09.1226_1050.icdate_20010703.cam.h0.2001-07-05-00000.nc',\n",
       " 'xx01-taiesm1.F_2000_TAI.f09_f09.1226_1050.icdate_20010704.cam.h0.2001-07-06-00000.nc',\n",
       " 'xx01-taiesm1.F_2000_TAI.f09_f09.1226_1050.icdate_20010705.cam.h0.2001-07-07-00000.nc',\n",
       " 'xx01-taiesm1.F_2000_TAI.f09_f09.1226_1050.icdate_20010706.cam.h0.2001-07-08-00000.nc',\n",
       " 'xx01-taiesm1.F_2000_TAI.f09_f09.1226_1050.icdate_20010707.cam.h0.2001-07-09-00000.nc',\n",
       " 'xx01-taiesm1.F_2000_TAI.f09_f09.1226_1050.icdate_20010708.cam.h0.2001-07-10-00000.nc',\n",
       " 'xx01-taiesm1.F_2000_TAI.f09_f09.1226_1050.icdate_20010709.cam.h0.2001-07-11-00000.nc',\n",
       " 'xx01-taiesm1.F_2000_TAI.f09_f09.1226_1050.icdate_20010710.cam.h0.2001-07-12-00000.nc',\n",
       " 'xx01-taiesm1.F_2000_TAI.f09_f09.1226_1050.icdate_20010711.cam.h0.2001-07-13-00000.nc',\n",
       " 'xx01-taiesm1.F_2000_TAI.f09_f09.1226_1050.icdate_20010712.cam.h0.2001-07-14-00000.nc',\n",
       " 'xx01-taiesm1.F_2000_TAI.f09_f09.1226_1050.icdate_20010713.cam.h0.2001-07-15-00000.nc',\n",
       " 'xx01-taiesm1.F_2000_TAI.f09_f09.1226_1050.icdate_20010714.cam.h0.2001-07-16-00000.nc',\n",
       " 'xx01-taiesm1.F_2000_TAI.f09_f09.1226_1050.icdate_20010715.cam.h0.2001-07-17-00000.nc',\n",
       " 'xx01-taiesm1.F_2000_TAI.f09_f09.1226_1050.icdate_20010716.cam.h0.2001-07-18-00000.nc',\n",
       " 'xx01-taiesm1.F_2000_TAI.f09_f09.1226_1050.icdate_20010717.cam.h0.2001-07-19-00000.nc',\n",
       " 'xx01-taiesm1.F_2000_TAI.f09_f09.1226_1050.icdate_20010718.cam.h0.2001-07-20-00000.nc',\n",
       " 'xx01-taiesm1.F_2000_TAI.f09_f09.1226_1050.icdate_20010719.cam.h0.2001-07-21-00000.nc',\n",
       " 'xx01-taiesm1.F_2000_TAI.f09_f09.1226_1050.icdate_20010720.cam.h0.2001-07-22-00000.nc',\n",
       " 'xx01-taiesm1.F_2000_TAI.f09_f09.1226_1050.icdate_20010721.cam.h0.2001-07-23-00000.nc',\n",
       " 'xx01-taiesm1.F_2000_TAI.f09_f09.1226_1050.icdate_20010722.cam.h0.2001-07-24-00000.nc',\n",
       " 'xx01-taiesm1.F_2000_TAI.f09_f09.1226_1050.icdate_20010723.cam.h0.2001-07-25-00000.nc',\n",
       " 'xx01-taiesm1.F_2000_TAI.f09_f09.1226_1050.icdate_20010724.cam.h0.2001-07-26-00000.nc',\n",
       " 'xx01-taiesm1.F_2000_TAI.f09_f09.1226_1050.icdate_20010725.cam.h0.2001-07-27-00000.nc',\n",
       " 'xx01-taiesm1.F_2000_TAI.f09_f09.1226_1050.icdate_20010726.cam.h0.2001-07-28-00000.nc',\n",
       " 'xx01-taiesm1.F_2000_TAI.f09_f09.1226_1050.icdate_20010727.cam.h0.2001-07-29-00000.nc',\n",
       " 'xx01-taiesm1.F_2000_TAI.f09_f09.1226_1050.icdate_20010728.cam.h0.2001-07-30-00000.nc',\n",
       " 'xx01-taiesm1.F_2000_TAI.f09_f09.1226_1050.icdate_20010729.cam.h0.2001-07-31-00000.nc']"
      ]
     },
     "execution_count": 49,
     "metadata": {},
     "output_type": "execute_result"
    }
   ],
   "source": [
    "start_date_str = '2001-07-01'\n",
    "end_date_str = '2001-07-31'\n",
    "lead_day=2\n",
    "filenames = get_hindcast_filenames(start_date_str, end_date_str, lead_day)\n",
    "\n",
    "filenames"
   ]
  },
  {
   "cell_type": "markdown",
   "id": "87f9d396",
   "metadata": {},
   "source": [
    "## Plot - "
   ]
  },
  {
   "cell_type": "code",
   "execution_count": null,
   "id": "c9dfcf75",
   "metadata": {},
   "outputs": [],
   "source": []
  },
  {
   "cell_type": "code",
   "execution_count": null,
   "id": "af714b0d",
   "metadata": {},
   "outputs": [],
   "source": []
  },
  {
   "cell_type": "code",
   "execution_count": 23,
   "id": "054503e8",
   "metadata": {},
   "outputs": [],
   "source": [
    "#yhc.lib(\"fdef\")   # check out yhc library"
   ]
  },
  {
   "cell_type": "code",
   "execution_count": null,
   "id": "265eb1b8",
   "metadata": {},
   "outputs": [],
   "source": []
  }
 ],
 "metadata": {
  "kernelspec": {
   "display_name": "Python 3 (ipykernel)",
   "language": "python",
   "name": "python3"
  },
  "language_info": {
   "codemirror_mode": {
    "name": "ipython",
    "version": 3
   },
   "file_extension": ".py",
   "mimetype": "text/x-python",
   "name": "python",
   "nbconvert_exporter": "python",
   "pygments_lexer": "ipython3",
   "version": "3.9.16"
  }
 },
 "nbformat": 4,
 "nbformat_minor": 5
}
